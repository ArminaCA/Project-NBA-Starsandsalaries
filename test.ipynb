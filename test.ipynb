{
 "cells": [
  {
   "cell_type": "code",
   "execution_count": 14,
   "metadata": {},
   "outputs": [],
   "source": [
    "# Setting up Dependencies\n",
    "import pandas as pd\n",
    "\n",
    "import sqlalchemy\n",
    "from sqlalchemy import Column, Integer, String, Float\n",
    "from sqlalchemy.ext.declarative import declarative_base\n",
    "from sqlalchemy.orm import Session\n",
    "from sqlalchemy import create_engine, func\n",
    "\n",
    "from flask import Flask, jsonify\n",
    "\n",
    "Base = declarative_base()"
   ]
  },
  {
   "cell_type": "code",
   "execution_count": 34,
   "metadata": {},
   "outputs": [
    {
     "name": "stderr",
     "output_type": "stream",
     "text": [
      "C:\\Users\\didie\\AppData\\Local\\Temp\\ipykernel_10604\\2087590995.py:2: SAWarning: This declarative base already contains a class with the same class name and module name as __main__.Salary, and will be replaced in the string-lookup table.\n",
      "  class Salary(Base):\n"
     ]
    },
    {
     "ename": "InvalidRequestError",
     "evalue": "Table 'SalaryTable' is already defined for this MetaData instance.  Specify 'extend_existing=True' to redefine options and columns on an existing Table object.",
     "output_type": "error",
     "traceback": [
      "\u001b[1;31m---------------------------------------------------------------------------\u001b[0m",
      "\u001b[1;31mInvalidRequestError\u001b[0m                       Traceback (most recent call last)",
      "Cell \u001b[1;32mIn[34], line 2\u001b[0m\n\u001b[0;32m      1\u001b[0m \u001b[39m# Setting Up Class\u001b[39;00m\n\u001b[1;32m----> 2\u001b[0m \u001b[39mclass\u001b[39;00m \u001b[39mSalary\u001b[39;00m(Base):\n\u001b[0;32m      3\u001b[0m     __tablename__ \u001b[39m=\u001b[39m \u001b[39m\"\u001b[39m\u001b[39mSalaryTable\u001b[39m\u001b[39m\"\u001b[39m\n\u001b[0;32m      4\u001b[0m     rank \u001b[39m=\u001b[39m Column(String)\n",
      "File \u001b[1;32mc:\\Users\\didie\\anaconda3\\envs\\dev\\lib\\site-packages\\sqlalchemy\\orm\\decl_api.py:76\u001b[0m, in \u001b[0;36mDeclarativeMeta.__init__\u001b[1;34m(cls, classname, bases, dict_, **kw)\u001b[0m\n\u001b[0;32m     73\u001b[0m         \u001b[39mcls\u001b[39m\u001b[39m.\u001b[39m_sa_registry \u001b[39m=\u001b[39m reg\n\u001b[0;32m     75\u001b[0m \u001b[39mif\u001b[39;00m \u001b[39mnot\u001b[39;00m \u001b[39mcls\u001b[39m\u001b[39m.\u001b[39m\u001b[39m__dict__\u001b[39m\u001b[39m.\u001b[39mget(\u001b[39m\"\u001b[39m\u001b[39m__abstract__\u001b[39m\u001b[39m\"\u001b[39m, \u001b[39mFalse\u001b[39;00m):\n\u001b[1;32m---> 76\u001b[0m     _as_declarative(reg, \u001b[39mcls\u001b[39;49m, dict_)\n\u001b[0;32m     77\u001b[0m \u001b[39mtype\u001b[39m\u001b[39m.\u001b[39m\u001b[39m__init__\u001b[39m(\u001b[39mcls\u001b[39m, classname, bases, dict_)\n",
      "File \u001b[1;32mc:\\Users\\didie\\anaconda3\\envs\\dev\\lib\\site-packages\\sqlalchemy\\orm\\decl_base.py:126\u001b[0m, in \u001b[0;36m_as_declarative\u001b[1;34m(registry, cls, dict_)\u001b[0m\n\u001b[0;32m    121\u001b[0m \u001b[39mdef\u001b[39;00m \u001b[39m_as_declarative\u001b[39m(registry, \u001b[39mcls\u001b[39m, dict_):\n\u001b[0;32m    122\u001b[0m \n\u001b[0;32m    123\u001b[0m     \u001b[39m# declarative scans the class for attributes.  no table or mapper\u001b[39;00m\n\u001b[0;32m    124\u001b[0m     \u001b[39m# args passed separately.\u001b[39;00m\n\u001b[1;32m--> 126\u001b[0m     \u001b[39mreturn\u001b[39;00m _MapperConfig\u001b[39m.\u001b[39;49msetup_mapping(registry, \u001b[39mcls\u001b[39;49m, dict_, \u001b[39mNone\u001b[39;49;00m, {})\n",
      "File \u001b[1;32mc:\\Users\\didie\\anaconda3\\envs\\dev\\lib\\site-packages\\sqlalchemy\\orm\\decl_base.py:183\u001b[0m, in \u001b[0;36m_MapperConfig.setup_mapping\u001b[1;34m(cls, registry, cls_, dict_, table, mapper_kw)\u001b[0m\n\u001b[0;32m    180\u001b[0m \u001b[39melse\u001b[39;00m:\n\u001b[0;32m    181\u001b[0m     cfg_cls \u001b[39m=\u001b[39m _ClassScanMapperConfig\n\u001b[1;32m--> 183\u001b[0m \u001b[39mreturn\u001b[39;00m cfg_cls(registry, cls_, dict_, table, mapper_kw)\n",
      "File \u001b[1;32mc:\\Users\\didie\\anaconda3\\envs\\dev\\lib\\site-packages\\sqlalchemy\\orm\\decl_base.py:331\u001b[0m, in \u001b[0;36m_ClassScanMapperConfig.__init__\u001b[1;34m(self, registry, cls_, dict_, table, mapper_kw)\u001b[0m\n\u001b[0;32m    327\u001b[0m \u001b[39mself\u001b[39m\u001b[39m.\u001b[39m_extract_mappable_attributes()\n\u001b[0;32m    329\u001b[0m \u001b[39mself\u001b[39m\u001b[39m.\u001b[39m_extract_declared_columns()\n\u001b[1;32m--> 331\u001b[0m \u001b[39mself\u001b[39;49m\u001b[39m.\u001b[39;49m_setup_table(table)\n\u001b[0;32m    333\u001b[0m \u001b[39mself\u001b[39m\u001b[39m.\u001b[39m_setup_inheritance(mapper_kw)\n\u001b[0;32m    335\u001b[0m \u001b[39mself\u001b[39m\u001b[39m.\u001b[39m_early_mapping(mapper_kw)\n",
      "File \u001b[1;32mc:\\Users\\didie\\anaconda3\\envs\\dev\\lib\\site-packages\\sqlalchemy\\orm\\decl_base.py:820\u001b[0m, in \u001b[0;36m_ClassScanMapperConfig._setup_table\u001b[1;34m(self, table)\u001b[0m\n\u001b[0;32m    815\u001b[0m         \u001b[39mif\u001b[39;00m autoload:\n\u001b[0;32m    816\u001b[0m             table_kw[\u001b[39m\"\u001b[39m\u001b[39mautoload\u001b[39m\u001b[39m\"\u001b[39m] \u001b[39m=\u001b[39m \u001b[39mTrue\u001b[39;00m\n\u001b[0;32m    818\u001b[0m         table \u001b[39m=\u001b[39m \u001b[39mself\u001b[39m\u001b[39m.\u001b[39mset_cls_attribute(\n\u001b[0;32m    819\u001b[0m             \u001b[39m\"\u001b[39m\u001b[39m__table__\u001b[39m\u001b[39m\"\u001b[39m,\n\u001b[1;32m--> 820\u001b[0m             table_cls(\n\u001b[0;32m    821\u001b[0m                 tablename,\n\u001b[0;32m    822\u001b[0m                 \u001b[39mself\u001b[39m\u001b[39m.\u001b[39m_metadata_for_cls(manager),\n\u001b[0;32m    823\u001b[0m                 \u001b[39m*\u001b[39m(\u001b[39mtuple\u001b[39m(declared_columns) \u001b[39m+\u001b[39m \u001b[39mtuple\u001b[39m(args)),\n\u001b[0;32m    824\u001b[0m                 \u001b[39m*\u001b[39m\u001b[39m*\u001b[39mtable_kw\n\u001b[0;32m    825\u001b[0m             ),\n\u001b[0;32m    826\u001b[0m         )\n\u001b[0;32m    827\u001b[0m \u001b[39melse\u001b[39;00m:\n\u001b[0;32m    828\u001b[0m     \u001b[39mif\u001b[39;00m table \u001b[39mis\u001b[39;00m \u001b[39mNone\u001b[39;00m:\n",
      "File \u001b[1;32m<string>:2\u001b[0m, in \u001b[0;36m__new__\u001b[1;34m(cls, *args, **kw)\u001b[0m\n",
      "File \u001b[1;32mc:\\Users\\didie\\anaconda3\\envs\\dev\\lib\\site-packages\\sqlalchemy\\util\\deprecations.py:309\u001b[0m, in \u001b[0;36mdeprecated_params.<locals>.decorate.<locals>.warned\u001b[1;34m(fn, *args, **kwargs)\u001b[0m\n\u001b[0;32m    302\u001b[0m     \u001b[39mif\u001b[39;00m m \u001b[39min\u001b[39;00m kwargs:\n\u001b[0;32m    303\u001b[0m         _warn_with_version(\n\u001b[0;32m    304\u001b[0m             messages[m],\n\u001b[0;32m    305\u001b[0m             versions[m],\n\u001b[0;32m    306\u001b[0m             version_warnings[m],\n\u001b[0;32m    307\u001b[0m             stacklevel\u001b[39m=\u001b[39m\u001b[39m3\u001b[39m,\n\u001b[0;32m    308\u001b[0m         )\n\u001b[1;32m--> 309\u001b[0m \u001b[39mreturn\u001b[39;00m fn(\u001b[39m*\u001b[39margs, \u001b[39m*\u001b[39m\u001b[39m*\u001b[39mkwargs)\n",
      "File \u001b[1;32mc:\\Users\\didie\\anaconda3\\envs\\dev\\lib\\site-packages\\sqlalchemy\\sql\\schema.py:593\u001b[0m, in \u001b[0;36mTable.__new__\u001b[1;34m(cls, *args, **kw)\u001b[0m\n\u001b[0;32m    591\u001b[0m \u001b[39mif\u001b[39;00m key \u001b[39min\u001b[39;00m metadata\u001b[39m.\u001b[39mtables:\n\u001b[0;32m    592\u001b[0m     \u001b[39mif\u001b[39;00m \u001b[39mnot\u001b[39;00m keep_existing \u001b[39mand\u001b[39;00m \u001b[39mnot\u001b[39;00m extend_existing \u001b[39mand\u001b[39;00m \u001b[39mbool\u001b[39m(args):\n\u001b[1;32m--> 593\u001b[0m         \u001b[39mraise\u001b[39;00m exc\u001b[39m.\u001b[39mInvalidRequestError(\n\u001b[0;32m    594\u001b[0m             \u001b[39m\"\u001b[39m\u001b[39mTable \u001b[39m\u001b[39m'\u001b[39m\u001b[39m%s\u001b[39;00m\u001b[39m'\u001b[39m\u001b[39m is already defined for this MetaData \u001b[39m\u001b[39m\"\u001b[39m\n\u001b[0;32m    595\u001b[0m             \u001b[39m\"\u001b[39m\u001b[39minstance.  Specify \u001b[39m\u001b[39m'\u001b[39m\u001b[39mextend_existing=True\u001b[39m\u001b[39m'\u001b[39m\u001b[39m \u001b[39m\u001b[39m\"\u001b[39m\n\u001b[0;32m    596\u001b[0m             \u001b[39m\"\u001b[39m\u001b[39mto redefine \u001b[39m\u001b[39m\"\u001b[39m\n\u001b[0;32m    597\u001b[0m             \u001b[39m\"\u001b[39m\u001b[39moptions and columns on an \u001b[39m\u001b[39m\"\u001b[39m\n\u001b[0;32m    598\u001b[0m             \u001b[39m\"\u001b[39m\u001b[39mexisting Table object.\u001b[39m\u001b[39m\"\u001b[39m \u001b[39m%\u001b[39m key\n\u001b[0;32m    599\u001b[0m         )\n\u001b[0;32m    600\u001b[0m     table \u001b[39m=\u001b[39m metadata\u001b[39m.\u001b[39mtables[key]\n\u001b[0;32m    601\u001b[0m     \u001b[39mif\u001b[39;00m extend_existing:\n",
      "\u001b[1;31mInvalidRequestError\u001b[0m: Table 'SalaryTable' is already defined for this MetaData instance.  Specify 'extend_existing=True' to redefine options and columns on an existing Table object."
     ]
    }
   ],
   "source": [
    "# Setting Up Class\n",
    "class Salary(Base):\n",
    "    __tablename__ = \"SalaryTable\"\n",
    "    rank = Column(String)\n",
    "    full_name = Column(String, primary_key = True)\n",
    "    team = Column(String)\n",
    "    position = Column(String)\n",
    "    age = Column(Float)\n",
    "    GP = Column(Integer)\n",
    "    MPG = Column(Float)\n",
    "    MIN = Column(Float)\n",
    "    USG = Column(Float)\n",
    "    Tor = Column(Float)\n",
    "    FTA = Column(Float)\n",
    "    FT = Column(Float)\n",
    "    n2PA = Column(Float)\n",
    "    n2P = Column(Float)\n",
    "    n3PA = Column(Float)\n",
    "    n3P = Column(Float)\n",
    "    eFG = Column(Float)\n",
    "    TS = Column(Float)\n",
    "    PPG = Column(Float)\n",
    "    RPG = Column(Float)\n",
    "    APG = Column(Float)\n",
    "    SPG = Column(Float)\n",
    "    BPG = Column(Float)\n",
    "    TOPG = Column(Float)\n",
    "    PA = Column(Float)\n",
    "    PRA = Column(Float)\n",
    "    VI = Column(Float)\n",
    "    ORTG = Column(Float)\n",
    "    DRTG = Column(Float)\n",
    "    YEAR = Column(String)\n",
    "    FRACHISE = Column(String)\n",
    "    SALARY = Column(Integer)"
   ]
  },
  {
   "cell_type": "code",
   "execution_count": 35,
   "metadata": {},
   "outputs": [
    {
     "data": {
      "text/plain": [
       "Index(['Unnamed: 0', 'RANK', 'NAME', 'TEAM', 'POS', 'AGE', 'GP', 'MPG', 'USG%',\n",
       "       'TO%', 'FTA', 'FT%', '2PA', '2P%', '3PA', '3P%', 'eFG%', 'TS%', 'PPG',\n",
       "       'RPG', 'APG', 'SPG', 'BPG', 'TPG', 'P+R', 'P+A', 'P+R+A', 'VI', 'ORtg',\n",
       "       'DRtg', 'Salary'],\n",
       "      dtype='object')"
      ]
     },
     "execution_count": 35,
     "metadata": {},
     "output_type": "execute_result"
    }
   ],
   "source": [
    "# Resource File\n",
    "path = \"Resources/StatsandSalary.csv\"\n",
    "\n",
    "# Read the csv\n",
    "salary_df = pd.read_csv(path)\n",
    "salary_df.columns"
   ]
  },
  {
   "cell_type": "code",
   "execution_count": 37,
   "metadata": {},
   "outputs": [
    {
     "ename": "NameError",
     "evalue": "name 'MIN' is not defined",
     "output_type": "error",
     "traceback": [
      "\u001b[1;31m---------------------------------------------------------------------------\u001b[0m",
      "\u001b[1;31mNameError\u001b[0m                                 Traceback (most recent call last)",
      "Cell \u001b[1;32mIn[37], line 31\u001b[0m\n\u001b[0;32m     29\u001b[0m     DRTG \u001b[39m=\u001b[39m salary_df[\u001b[39m\"\u001b[39m\u001b[39mDRtg\u001b[39m\u001b[39m\"\u001b[39m][row]\n\u001b[0;32m     30\u001b[0m     salary \u001b[39m=\u001b[39m salary_df[\u001b[39m\"\u001b[39m\u001b[39mSalary\u001b[39m\u001b[39m\"\u001b[39m][row]\n\u001b[1;32m---> 31\u001b[0m     x \u001b[39m=\u001b[39m Salary(rank, full_name, position, age, GP, MPG, MIN, \n\u001b[0;32m     32\u001b[0m                USG, Tor, FTA, FT , n2PA, n2P, n3PA, n3P, eFG, \n\u001b[0;32m     33\u001b[0m                TS , PPG, RPG, TRB, APG, AST, SPG, BPG, TOPG, VI, \n\u001b[0;32m     34\u001b[0m                ORTG, DRTG)\n\u001b[0;32m     35\u001b[0m     session\u001b[39m.\u001b[39madd(x)\n\u001b[0;32m     36\u001b[0m session\u001b[39m.\u001b[39mcommit()\n",
      "\u001b[1;31mNameError\u001b[0m: name 'MIN' is not defined"
     ]
    }
   ],
   "source": [
    "for row in salary_df.index:\n",
    "    rank = salary_df[\"RANK\"][row]\n",
    "    full_name = salary_df[\"NAME\"][row]\n",
    "    team = salary_df[\"TEAM\"][row]\n",
    "    position = salary_df[\"POS\"][row]\n",
    "    age = salary_df[\"AGE\"][row]\n",
    "    GP = salary_df[\"GP\"][row]\n",
    "    MPG = salary_df[\"MPG\"][row] \n",
    "    USG = salary_df[\"USG%\"][row]\n",
    "    TO = salary_df[\"TO%\"][row]\n",
    "    FTA = salary_df[\"FTA\"][row]\n",
    "    FT = salary_df[\"FT%\"][row]\n",
    "    n2PA= salary_df[\"2PA\"][row]\n",
    "    n2P= salary_df[\"2P%\"][row]\n",
    "    n3PA = salary_df[\"3PA\"][row]\n",
    "    n3P= salary_df[\"3P%\"][row]\n",
    "    eFG = salary_df[\"eFG%\"][row]\n",
    "    TS = salary_df[\"TS%\"][row]\n",
    "    PPG = salary_df[\"PPG\"][row]\n",
    "    RPG = salary_df[\"RPG\"][row]\n",
    "    APG = salary_df[\"APG\"][row]\n",
    "    SPG = salary_df[\"SPG\"][row]\n",
    "    BPG = salary_df[\"BPG\"][row]\n",
    "    TPG = salary_df[\"TPG\"][row]\n",
    "    PA = salary_df[\"P+A\"][row]\n",
    "    PRA = salary_df[\"P+R+A\"][row]\n",
    "    VI = salary_df[\"VI\"][row]\n",
    "    ORTG = salary_df[\"ORtg\"][row]\n",
    "    DRTG = salary_df[\"DRtg\"][row]\n",
    "    salary = salary_df[\"Salary\"][row]\n",
    "    x = Salary(rank, full_name, position, age, GP, MPG,\n",
    "               USG, TO, FTA, FT , n2PA, n2P, n3PA, n3P, eFG, \n",
    "               TS , PPG, RPG,  APG, SPG, BPG, TPG, VI,  PA, PRA,\n",
    "               ORTG, DRTG)\n",
    "    session.add(x)\n",
    "session.commit()"
   ]
  }
 ],
 "metadata": {
  "kernelspec": {
   "display_name": "dev",
   "language": "python",
   "name": "python3"
  },
  "language_info": {
   "codemirror_mode": {
    "name": "ipython",
    "version": 3
   },
   "file_extension": ".py",
   "mimetype": "text/x-python",
   "name": "python",
   "nbconvert_exporter": "python",
   "pygments_lexer": "ipython3",
   "version": "3.10.11"
  },
  "orig_nbformat": 4
 },
 "nbformat": 4,
 "nbformat_minor": 2
}
